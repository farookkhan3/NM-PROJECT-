{
  "nbformat": 4,
  "nbformat_minor": 0,
  "metadata": {
    "colab": {
      "provenance": []
    },
    "kernelspec": {
      "name": "python3",
      "display_name": "Python 3"
    },
    "language_info": {
      "name": "python"
    }
  },
  "cells": [
    {
      "cell_type": "code",
      "source": [
        "import pandas as pd\n",
        "from sklearn.ensemble import RandomForestClassifier\n",
        "from sklearn.model_selection import train_test_split\n",
        "\n",
        "# Sample transaction data\n",
        "data = {\n",
        "    'card_number': [1234, 5678, 9012, 3456, 7890],\n",
        "    'transaction_amount': [100, 200, 50, 150, 300],\n",
        "    'location': ['USA', 'Canada', 'USA', 'Mexico', 'USA'],\n",
        "    'time': [10, 12, 14, 16, 18],\n",
        "    'is_fraudulent': [0, 1, 0, 1, 0]  # 0 = legitimate, 1 = fraudulent\n",
        "}\n",
        "\n",
        "df = pd.DataFrame(data)\n",
        "\n",
        "# Convert categorical variables to numerical\n",
        "df['location'] = df['location'].map({'USA': 0, 'Canada': 1, 'Mexico': 2})\n",
        "\n",
        "# Split data into training and testing sets\n",
        "X = df.drop('is_fraudulent', axis=1)\n",
        "y = df['is_fraudulent']\n",
        "X_train, X_test, y_train, y_test = train_test_split(X, y, test_size=0.2, random_state=42)\n",
        "\n",
        "# Train a random forest classifier\n",
        "model = RandomForestClassifier(n_estimators=100)\n",
        "model.fit(X_train, y_train)\n",
        "\n",
        "# Make predictions on new transaction data\n",
        "new_transaction = pd.DataFrame({\n",
        "    'card_number': [1111],\n",
        "    'transaction_amount': [250],\n",
        "    'location': [0],  # USA\n",
        "    'time': [20]\n",
        "})\n",
        "\n",
        "prediction = model.predict(new_transaction)\n",
        "print(\"Fraud probability:\", model.predict_proba(new_transaction))"
      ],
      "metadata": {
        "colab": {
          "base_uri": "https://localhost:8080/"
        },
        "id": "gUeH-v6iZnOF",
        "outputId": "2f21b1cb-b059-40e5-d56e-5223f4e8c639"
      },
      "execution_count": 8,
      "outputs": [
        {
          "output_type": "stream",
          "name": "stdout",
          "text": [
            "Fraud probability: [[0.7 0.3]]\n"
          ]
        }
      ]
    }
  ]
}